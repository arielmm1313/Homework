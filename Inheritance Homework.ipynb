{
 "cells": [
  {
   "cell_type": "code",
   "execution_count": 4,
   "id": "465c0861",
   "metadata": {},
   "outputs": [
    {
     "name": "stdout",
     "output_type": "stream",
     "text": [
      "Ariel Recieves a B.\n"
     ]
    }
   ],
   "source": [
    "class Person:\n",
    "    firstname = \"\"\n",
    "    lastname = \"\"\n",
    "    \n",
    "    def __init__(self, firstname, lastname):\n",
    "        self.firstname = firstname\n",
    "        self.lastname = lastname\n",
    "        \n",
    "class Student(Person):\n",
    "    def __init__(self, firstname, lastname, ID, TestScore):\n",
    "        self.firstname= firstname\n",
    "        self.lastname= lastname\n",
    "        self.ID= ID\n",
    "        self.TestScore= TestScore\n",
    "\n",
    "    def calculate(self):\n",
    "        if self.TestScore >=90:\n",
    "            print(self.firstname, 'Receives an A.')\n",
    "        elif self.TestScore >=80 and self.TestScore <=89:\n",
    "            print(self.firstname, 'Recieves a B.')\n",
    "        elif self.TestScore >=70 and self.TestScore <=79:\n",
    "            print(self.firstname, 'Recieves a C.')\n",
    "        elif self.TestScore >=60 and self.TestScore <=69:\n",
    "            print(self.firstname, 'Recieves a D.')\n",
    "        else:\n",
    "            print(self.firstname, 'Recieves an F.')\n",
    "\n",
    "x= Student('Ariel', 'Matthews', 1, 84)\n",
    "x.calculate()"
   ]
  },
  {
   "cell_type": "code",
   "execution_count": null,
   "id": "4eea925c",
   "metadata": {},
   "outputs": [],
   "source": []
  }
 ],
 "metadata": {
  "kernelspec": {
   "display_name": "Python 3 (ipykernel)",
   "language": "python",
   "name": "python3"
  },
  "language_info": {
   "codemirror_mode": {
    "name": "ipython",
    "version": 3
   },
   "file_extension": ".py",
   "mimetype": "text/x-python",
   "name": "python",
   "nbconvert_exporter": "python",
   "pygments_lexer": "ipython3",
   "version": "3.9.13"
  }
 },
 "nbformat": 4,
 "nbformat_minor": 5
}
